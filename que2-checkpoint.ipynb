{
 "cells": [
  {
   "cell_type": "code",
   "execution_count": 1,
   "metadata": {},
   "outputs": [
    {
     "name": "stdout",
     "output_type": "stream",
     "text": [
      "The sum of contiguous sublist with the largest sum is 6\n"
     ]
    }
   ],
   "source": [
    "# Function to find the maximum sum of a contiguous subarray\n",
    "# inarray a given integer \n",
    "def kadane(A):\n",
    " \n",
    "    # stores the maximum sum sublist found so far\n",
    "    max_so_far = 0\n",
    " \n",
    "    # stores the maximum sum of sublist ending at the current position\n",
    "    max_ending_here = 0\n",
    " \n",
    "    # traverse the given list\n",
    "    for i in A:\n",
    "        # update the maximum sum of sublist \"ending\" at index `i` (by adding the\n",
    "        # current element to maximum sum ending at previous index `i-1`)\n",
    "        max_ending_here = max_ending_here + i\n",
    " \n",
    "        # if the maximum sum is negative, set it to 0 (which represents\n",
    "        # an empty sublist)\n",
    "        max_ending_here = max(max_ending_here, 0)\n",
    " \n",
    "        # update the result if the current sublist sum is found to be greater\n",
    "        max_so_far = max(max_so_far, max_ending_here)\n",
    " \n",
    "    return max_so_far\n",
    " \n",
    " \n",
    "if __name__ == '__main__':\n",
    " \n",
    "    A = [-2, 1, -3, 4, -1, 2, 1, -5, 4]\n",
    " \n",
    "    print(\"The sum of contiguous sublist with the largest sum is\",\n",
    "        kadane(A))\n",
    " \n",
    "\n"
   ]
  },
  {
   "cell_type": "code",
   "execution_count": null,
   "metadata": {},
   "outputs": [],
   "source": []
  }
 ],
 "metadata": {
  "kernelspec": {
   "display_name": "Python 3",
   "language": "python",
   "name": "python3"
  },
  "language_info": {
   "codemirror_mode": {
    "name": "ipython",
    "version": 3
   },
   "file_extension": ".py",
   "mimetype": "text/x-python",
   "name": "python",
   "nbconvert_exporter": "python",
   "pygments_lexer": "ipython3",
   "version": "3.8.5"
  }
 },
 "nbformat": 4,
 "nbformat_minor": 4
}
